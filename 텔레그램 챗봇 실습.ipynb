{
  "nbformat": 4,
  "nbformat_minor": 0,
  "metadata": {
    "colab": {
      "name": "텔레그램 챗봇 실습",
      "provenance": [],
      "collapsed_sections": [],
      "authorship_tag": "ABX9TyPYnaw9S0uYUWpc6W/SDpDu",
      "include_colab_link": true
    },
    "kernelspec": {
      "name": "python3",
      "display_name": "Python 3"
    }
  },
  "cells": [
    {
      "cell_type": "markdown",
      "metadata": {
        "id": "view-in-github",
        "colab_type": "text"
      },
      "source": [
        "<a href=\"https://colab.research.google.com/github/ndb796/ChatBot-Tutorial-for-KISA/blob/master/%ED%85%94%EB%A0%88%EA%B7%B8%EB%9E%A8%20%EC%B1%97%EB%B4%87%20%EC%8B%A4%EC%8A%B5.ipynb\" target=\"_parent\"><img src=\"https://colab.research.google.com/assets/colab-badge.svg\" alt=\"Open In Colab\"/></a>"
      ]
    },
    {
      "cell_type": "markdown",
      "metadata": {
        "id": "yJhmajy0SRKG",
        "colab_type": "text"
      },
      "source": [
        "<h3><b>기본 환경 설정</b></h3>"
      ]
    },
    {
      "cell_type": "markdown",
      "metadata": {
        "id": "6oqyggk7S91f",
        "colab_type": "text"
      },
      "source": [
        "* 텔레그램 챗봇 API 사용 설명서: https://core.telegram.org/bots/api"
      ]
    },
    {
      "cell_type": "code",
      "metadata": {
        "id": "GpxjcmxyArGE",
        "colab_type": "code",
        "colab": {}
      },
      "source": [
        "# 필요한 라이브러리들을 불러옵니다.\n",
        "import requests\n",
        "import json"
      ],
      "execution_count": 0,
      "outputs": []
    },
    {
      "cell_type": "code",
      "metadata": {
        "id": "ObVBglYzAmyc",
        "colab_type": "code",
        "colab": {}
      },
      "source": [
        "# 실제 서비스에서는 토큰(Token) 값을 하드코딩하면 안 됩니다. (모든 토큰은 환경 변수로 등록 요망)\n",
        "token = \"738767344:AAE9hjrGujyZI98QyF9hTpR-TEbrFiNYMb4\""
      ],
      "execution_count": 0,
      "outputs": []
    },
    {
      "cell_type": "code",
      "metadata": {
        "id": "8orbmAGFAuw0",
        "colab_type": "code",
        "outputId": "def919ec-5dbc-45f1-92c0-6663ecb4fbdb",
        "colab": {
          "base_uri": "https://localhost:8080/",
          "height": 56
        }
      },
      "source": [
        "# 기본 챗봇 정보를 받아옵니다.\n",
        "url = 'https://api.telegram.org/bot{}/getMe'.format(token)\n",
        "response = json.loads(requests.get(url).text)\n",
        "\n",
        "# 응답 결과를 출력해 봅시다.\n",
        "print(response)"
      ],
      "execution_count": 11,
      "outputs": [
        {
          "output_type": "stream",
          "text": [
            "{'ok': True, 'result': {'id': 738767344, 'is_bot': True, 'first_name': 'KISA_tutorial_3958_Bot', 'username': 'KISA_tutorial_3958_Bot', 'can_join_groups': True, 'can_read_all_group_messages': False, 'supports_inline_queries': False}}\n"
          ],
          "name": "stdout"
        }
      ]
    },
    {
      "cell_type": "code",
      "metadata": {
        "id": "d41bE8t2SmTU",
        "colab_type": "code",
        "colab": {
          "base_uri": "https://localhost:8080/",
          "height": 36
        },
        "outputId": "7cca9e3e-a477-46ce-a827-fb21152f3a4d"
      },
      "source": [
        "# 챗봇의 이름을 출력합니다.\n",
        "print(\"챗봇 이름:\", response[\"result\"][\"username\"])"
      ],
      "execution_count": 12,
      "outputs": [
        {
          "output_type": "stream",
          "text": [
            "챗봇 이름: KISA_tutorial_3958_Bot\n"
          ],
          "name": "stdout"
        }
      ]
    },
    {
      "cell_type": "markdown",
      "metadata": {
        "id": "7NJp_xW5ShNE",
        "colab_type": "text"
      },
      "source": [
        "<h3><b>챗봇 최신 메시지 확인</b></h3>"
      ]
    },
    {
      "cell_type": "code",
      "metadata": {
        "id": "AL1sSZ7__gCf",
        "colab_type": "code",
        "outputId": "8c8c781b-abcf-4fd9-f219-aa543bae22f2",
        "colab": {
          "base_uri": "https://localhost:8080/",
          "height": 56
        }
      },
      "source": [
        "# 챗봇에서 최근 업데이트 된 내용을 받아옵니다.\n",
        "url = 'https://api.telegram.org/bot{}/getUpdates'.format(token)\n",
        "response = json.loads(requests.get(url).text)\n",
        "\n",
        "# 응답 결과를 출력해 봅시다.\n",
        "print(response)"
      ],
      "execution_count": 13,
      "outputs": [
        {
          "output_type": "stream",
          "text": [
            "{'ok': True, 'result': [{'update_id': 361478501, 'message': {'message_id': 4, 'from': {'id': 1062258464, 'is_bot': False, 'first_name': 'Jone', 'last_name': 'Doe', 'language_code': 'ko'}, 'chat': {'id': 1062258464, 'first_name': 'Jone', 'last_name': 'Doe', 'type': 'private'}, 'date': 1591860756, 'text': '안녕하세요?'}}]}\n"
          ],
          "name": "stdout"
        }
      ]
    },
    {
      "cell_type": "code",
      "metadata": {
        "id": "QZ_QHeMhTLnF",
        "colab_type": "code",
        "colab": {
          "base_uri": "https://localhost:8080/",
          "height": 54
        },
        "outputId": "c81ca3dd-aee3-4bb3-c890-e29ef644b6fc"
      },
      "source": [
        "# 가장 최근에 받은 메시지의 채팅방 번호\n",
        "chat_id = response[\"result\"][-1][\"message\"][\"from\"][\"id\"]\n",
        "print(\"채팅창 번호:\", chat_id)\n",
        "\n",
        "# 가장 최근에 받은 메시지의 내용\n",
        "msg = response[\"result\"][-1][\"message\"][\"text\"]\n",
        "print(\"채팅창 번호:\", msg)"
      ],
      "execution_count": 14,
      "outputs": [
        {
          "output_type": "stream",
          "text": [
            "채팅창 번호: 1062258464\n",
            "채팅창 번호: 안녕하세요?\n"
          ],
          "name": "stdout"
        }
      ]
    },
    {
      "cell_type": "markdown",
      "metadata": {
        "id": "A7ZbM3ZyTaX4",
        "colab_type": "text"
      },
      "source": [
        "<h3><b>챗봇 응답 실습</b></h3>"
      ]
    },
    {
      "cell_type": "code",
      "metadata": {
        "id": "cqFp0WYCDPhx",
        "colab_type": "code",
        "colab": {
          "base_uri": "https://localhost:8080/",
          "height": 36
        },
        "outputId": "3cffe312-e93d-403e-b1c4-5df7f784bfe0"
      },
      "source": [
        "# 보낼 메시지 설정\n",
        "response_msg = \"'\" + msg + \"'라고 하셨나요?\"\n",
        "\n",
        "# 챗봇을 이용해 특정한 채팅방으로 메시지를 전송합니다.\n",
        "url = 'https://api.telegram.org/bot{}/sendMessage'.format(token)\n",
        "requests.get(url, params = {\"chat_id\" : chat_id, \"text\" : response_msg})"
      ],
      "execution_count": 15,
      "outputs": [
        {
          "output_type": "execute_result",
          "data": {
            "text/plain": [
              "<Response [200]>"
            ]
          },
          "metadata": {
            "tags": []
          },
          "execution_count": 15
        }
      ]
    }
  ]
}